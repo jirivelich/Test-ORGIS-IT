{
 "cells": [
  {
   "cell_type": "code",
   "execution_count": 2,
   "metadata": {},
   "outputs": [],
   "source": [
    "# -*- coding: utf-8 -*-\n",
    "import requests\n",
    "from bs4 import BeautifulSoup"
   ]
  },
  {
   "cell_type": "code",
   "execution_count": 1,
   "metadata": {},
   "outputs": [],
   "source": [
    "MEDIAWIKI_API_URL = \"https://cs.wikipedia.org/w/api.php\""
   ]
  },
  {
   "cell_type": "code",
   "execution_count": 3,
   "metadata": {},
   "outputs": [],
   "source": [
    "params = {\n",
    "        'action': 'query',\n",
    "        'format': 'json',\n",
    "        'list': 'search',\n",
    "        'srsearch': \"rum\",\n",
    "        'srlimit': 1,\n",
    "    }"
   ]
  },
  {
   "cell_type": "code",
   "execution_count": 4,
   "metadata": {},
   "outputs": [],
   "source": [
    "params_for_html = {\n",
    "        'action': 'query',\n",
    "        'format': 'json',\n",
    "        'pageids': 375051,\n",
    "        'prop': 'revisions',\n",
    "        'rvprop': 'content',\n",
    "        'rvparse': '',\n",
    "        'rvlimit': 1\n",
    "    }"
   ]
  },
  {
   "cell_type": "code",
   "execution_count": null,
   "metadata": {},
   "outputs": [],
   "source": [
    "headers = {\n",
    "\n",
    "        'content-language': 'en-US'  # Změňte na požadovaný jazyk\n",
    "    }"
   ]
  },
  {
   "cell_type": "code",
   "execution_count": 5,
   "metadata": {},
   "outputs": [],
   "source": [
    "def wiki_request(params):\n",
    "    \n",
    "    if 'action' not in params:\n",
    "        params['action'] = 'query'\n",
    "        \n",
    "    if 'format' not in params:\n",
    "        params['format'] = 'json'\n",
    "      \n",
    "    response = requests.get(MEDIAWIKI_API_URL, params=params)\n",
    "    json = response.json()\n",
    "    return json\n",
    "\n",
    "\n",
    "# print(['query']['pages']['375051']['revisions'][0])\n"
   ]
  },
  {
   "cell_type": "code",
   "execution_count": 11,
   "metadata": {},
   "outputs": [
    {
     "name": "stdout",
     "output_type": "stream",
     "text": [
      "{'batchcomplete': '', 'query': {'searchinfo': {'totalhits': 1}, 'search': [{'ns': 0, 'title': 'Rum', 'pageid': 375051, 'size': 17569, 'wordcount': 1997, 'snippet': 'uvádějí dvě varianty. Podle první teorie je slovo rum odvozeno od slova <span class=\"searchmatch\">rumbellion</span>, což je anglicky „velký ruch“. Podle druhého tábora pochází pojmenování', 'timestamp': '2023-04-13T04:23:11Z'}]}}\n"
     ]
    },
    {
     "data": {
      "text/plain": [
       "(375051, 'Rum')"
      ]
     },
     "execution_count": 11,
     "metadata": {},
     "output_type": "execute_result"
    }
   ],
   "source": [
    "def get_page_ID(search:str,params:dict) -> tuple|None:\n",
    "    params[\"srsearch\"] = search\n",
    "    # params['srinfo'] = 'suggestion'\n",
    "    # params['srprop'] = ''\n",
    "    \n",
    "    request = wiki_request(params)\n",
    "    try:\n",
    "        page_id = request['query']['search'][0]['pageid']\n",
    "        title = request['query']['search'][0]['title']\n",
    "        print(request)\n",
    "        return page_id,title\n",
    "\n",
    "    except:\n",
    "        print(request['query'])\n",
    "        return None\n",
    "    \n",
    "\n",
    "get_page_ID(\"rumbellion\",params)\n"
   ]
  },
  {
   "cell_type": "code",
   "execution_count": 7,
   "metadata": {},
   "outputs": [
    {
     "name": "stdout",
     "output_type": "stream",
     "text": [
      "{'batchcomplete': '', 'continue': {'sroffset': 1, 'continue': '-||'}, 'query': {'searchinfo': {'totalhits': 12}, 'search': [{'ns': 0, 'title': 'HMTD', 'pageid': 921961, 'size': 9029, 'wordcount': 910, 'snippet': '<span class=\"searchmatch\">HMTD</span> (hexamethylentriperoxodiamin) je bílá jemně krystalická látka dříve zvažována pro plnění rozbušek v průmyslu. Patří do řady iniciačních třaskavin', 'timestamp': '2023-02-17T18:35:51Z'}]}}\n"
     ]
    }
   ],
   "source": [
    "def html(pageid:int, params: dict)->str:\n",
    "    \n",
    "    params['pageids'] = pageid\n",
    "    \n",
    "    request= wiki_request(params=params)\n",
    "    html = request['query']['pages'][f'{pageid}']['revisions'][0]['*']\n",
    "    return html\n",
    "\n",
    "\n",
    "pageid = get_page_ID(\"hmtd\",params)   \n",
    "html_ = html(pageid, params_for_html)"
   ]
  },
  {
   "cell_type": "code",
   "execution_count": 8,
   "metadata": {},
   "outputs": [
    {
     "data": {
      "text/plain": [
       "'HMTD ( hexamethylentriperoxodiamin ) je bílá jemně krystalická látka dříve zvažována pro plnění rozbušek v průmyslu. Patří do řady iniciačních třaskavin . Řadí se mezi nejčastěji amatérsky vyráběné výbušniny. Je častým zdrojem nehod, především jde o amputace prstů. Proto se musí vždy manipulovat s množstvími pod 2 g a to tak, aby se prsty nikdy nepřiblížily k HMTD blíže než na 10–15 cm.'"
      ]
     },
     "execution_count": 8,
     "metadata": {},
     "output_type": "execute_result"
    }
   ],
   "source": [
    "def first_paragraph(html:str) -> str:\n",
    "    p= BeautifulSoup(html, 'html.parser').find_all('p')\n",
    "    html_par = p[0]\n",
    "    text_ = BeautifulSoup(str(html_par),'html.parser')\n",
    "    text = text_.get_text(separator= \" \",strip = True)\n",
    "    return text\n",
    "first_paragraph(html_)"
   ]
  }
 ],
 "metadata": {
  "kernelspec": {
   "display_name": "env",
   "language": "python",
   "name": "python3"
  },
  "language_info": {
   "codemirror_mode": {
    "name": "ipython",
    "version": 3
   },
   "file_extension": ".py",
   "mimetype": "text/x-python",
   "name": "python",
   "nbconvert_exporter": "python",
   "pygments_lexer": "ipython3",
   "version": "3.11.4"
  },
  "orig_nbformat": 4
 },
 "nbformat": 4,
 "nbformat_minor": 2
}
