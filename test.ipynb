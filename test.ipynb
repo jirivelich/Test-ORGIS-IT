{
 "cells": [
  {
   "cell_type": "code",
   "execution_count": 21,
   "metadata": {},
   "outputs": [],
   "source": [
    "# -*- coding: utf-8 -*-\n",
    "import requests"
   ]
  },
  {
   "cell_type": "code",
   "execution_count": 18,
   "metadata": {},
   "outputs": [],
   "source": [
    "MEDIAWIKI_API_URL = \"https://cs.wikipedia.org/w/api.php\""
   ]
  },
  {
   "cell_type": "code",
   "execution_count": 53,
   "metadata": {},
   "outputs": [],
   "source": [
    "params = {\n",
    "        'action': 'query',\n",
    "        'format': 'json',\n",
    "        # \"language\" : \"cs\",\n",
    "        'list': 'search',\n",
    "        'srsearch': \"rumbellion\",\n",
    "        'srlimit': 1\n",
    "    }"
   ]
  },
  {
   "cell_type": "code",
   "execution_count": 32,
   "metadata": {},
   "outputs": [],
   "source": [
    "headers = {\n",
    "\n",
    "        'content-language': 'en-US'  # Změňte na požadovaný jazyk\n",
    "    }"
   ]
  },
  {
   "cell_type": "code",
   "execution_count": 54,
   "metadata": {},
   "outputs": [
    {
     "name": "stdout",
     "output_type": "stream",
     "text": [
      "utf-8\n",
      "{'date': 'Mon, 21 Aug 2023 23:48:25 GMT', 'server': 'mw1392.eqiad.wmnet', 'x-content-type-options': 'nosniff', 'x-search-id': '9xa4ove9bw6rchw3i70kmfzup', 'x-frame-options': 'DENY', 'content-disposition': 'inline; filename=api-result.json', 'vary': 'Accept-Encoding,Treat-as-Untrusted,X-Forwarded-Proto,Cookie,Authorization', 'cache-control': 'private, must-revalidate, max-age=0', 'content-length': '451', 'content-type': 'application/json; charset=utf-8', 'age': '0', 'x-cache': 'cp6012 miss, cp6010 pass', 'x-cache-status': 'pass', 'server-timing': 'cache;desc=\"pass\", host;desc=\"cp6010\"', 'strict-transport-security': 'max-age=106384710; includeSubDomains; preload', 'report-to': '{ \"group\": \"wm_nel\", \"max_age\": 604800, \"endpoints\": [{ \"url\": \"https://intake-logging.wikimedia.org/v1/events?stream=w3c.reportingapi.network_error&schema_uri=/w3c/reportingapi/network_error/1.0.0\" }] }', 'nel': '{ \"report_to\": \"wm_nel\", \"max_age\": 604800, \"failure_fraction\": 0.05, \"success_fraction\": 0.0}', 'set-cookie': 'WMF-Last-Access=21-Aug-2023;Path=/;HttpOnly;secure;Expires=Fri, 22 Sep 2023 12:00:00 GMT, WMF-Last-Access-Global=21-Aug-2023;Path=/;Domain=.wikipedia.org;HttpOnly;secure;Expires=Fri, 22 Sep 2023 12:00:00 GMT, GeoIP=CZ:31:__esk___Bud__jovice:48.97:14.47:v4; Path=/; secure; Domain=.wikipedia.org, NetworkProbeLimit=0.001;Path=/;Secure;Max-Age=3600', 'x-client-ip': '82.99.163.3', 'accept-ranges': 'bytes'}\n",
      "{\"batchcomplete\":\"\",\"query\":{\"searchinfo\":{\"totalhits\":1},\"search\":[{\"ns\":0,\"title\":\"Rum\",\"pageid\":375051,\"size\":17569,\"wordcount\":1997,\"snippet\":\"uv\\u00e1d\\u011bj\\u00ed dv\\u011b varianty. Podle prvn\\u00ed teorie je slovo rum odvozeno od slova <span class=\\\"searchmatch\\\">rumbellion</span>, co\\u017e je anglicky \\u201evelk\\u00fd ruch\\u201c. Podle druh\\u00e9ho t\\u00e1bora poch\\u00e1z\\u00ed pojmenov\\u00e1n\\u00ed\",\"timestamp\":\"2023-04-13T04:23:11Z\"}]}}\n",
      "https://cs.wikipedia.org/w/api.php?action=query&format=json&list=search&srsearch=rumbellion&srlimit=1\n",
      "200\n",
      "OK\n",
      "{'batchcomplete': '', 'query': {'searchinfo': {'totalhits': 1}, 'search': [{'ns': 0, 'title': 'Rum', 'pageid': 375051, 'size': 17569, 'wordcount': 1997, 'snippet': 'uvádějí dvě varianty. Podle první teorie je slovo rum odvozeno od slova <span class=\"searchmatch\">rumbellion</span>, což je anglicky „velký ruch“. Podle druhého tábora pochází pojmenování', 'timestamp': '2023-04-13T04:23:11Z'}]}}\n"
     ]
    }
   ],
   "source": [
    "response = requests.get(MEDIAWIKI_API_URL, params=params)\n",
    "print(response.encoding)\n",
    "print(response.headers)\n",
    "print(response.text)\n",
    "print(response.url)\n",
    "print(response.status_code)\n",
    "print(response.reason)\n",
    "print(response.json())\n",
    "\n",
    "# for v in response.headers:\n",
    "#     print(f\"{v}\")\n",
    "# {\"batchcomplete\":\"\",\"query\":{\"searchinfo\":{\"totalhits\":1},\"search\":[{\"ns\":0,\"title\":\"Rum\",\"pageid\":375051,\"size\":17569,\"wordcount\":1997,\"snippet\":\"uv\\u00e1d\\u011bj\\u00ed dv\\u011b varianty. Podle prvn\\u00ed teorie je slovo rum odvozeno od slova <span class=\\\"searchmatch\\\">rumbellion</span>, co\\u017e je anglicky \\u201evelk\\u00fd ruch\\u201c. Podle druh\\u00e9ho t\\u00e1bora poch\\u00e1z\\u00ed pojmenov\\u00e1n\\u00ed\",\"timestamp\":\"2023-04-13T04:23:11Z\"}]}}\n",
    "# {\"batchcomplete\":\"\",\"continue\":{\"sroffset\":1,\"continue\":\"-||\"},\"query\":{\"searchinfo\":{\"totalhits\":677},\"search\":[{\"ns\":0,\"title\":\"Rum\",\"pageid\":375051,\"size\":17569,\"wordcount\":1997,\n",
    "#{\"batchcomplete\":\"\",\"query\":{\"searchinfo\":{\"totalhits\":0},\"search\":[]}}"
   ]
  }
 ],
 "metadata": {
  "kernelspec": {
   "display_name": "env",
   "language": "python",
   "name": "python3"
  },
  "language_info": {
   "codemirror_mode": {
    "name": "ipython",
    "version": 3
   },
   "file_extension": ".py",
   "mimetype": "text/x-python",
   "name": "python",
   "nbconvert_exporter": "python",
   "pygments_lexer": "ipython3",
   "version": "3.11.4"
  },
  "orig_nbformat": 4
 },
 "nbformat": 4,
 "nbformat_minor": 2
}
