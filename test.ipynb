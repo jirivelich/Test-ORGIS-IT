{
 "cells": [
  {
   "cell_type": "code",
   "execution_count": 1,
   "metadata": {},
   "outputs": [],
   "source": [
    "import requests"
   ]
  },
  {
   "cell_type": "code",
   "execution_count": 2,
   "metadata": {},
   "outputs": [],
   "source": [
    "MEDIAWIKI_API_URL = \"https://www.wikidata.org/w/api.php\""
   ]
  },
  {
   "cell_type": "code",
   "execution_count": 8,
   "metadata": {},
   "outputs": [],
   "source": [
    "params = {\n",
    "        'action': 'query',\n",
    "        'format': 'json',\n",
    "        # \"language\" : \"cs\",\n",
    "        'list': 'search',\n",
    "        'srsearch': \"Praha\",\n",
    "        'srlimit': 10\n",
    "    }"
   ]
  },
  {
   "cell_type": "code",
   "execution_count": 9,
   "metadata": {},
   "outputs": [],
   "source": [
    "headers = {\n",
    "\n",
    "        'Accept-Language': 'cz'  # Změňte na požadovaný jazyk\n",
    "    }"
   ]
  },
  {
   "cell_type": "code",
   "execution_count": 10,
   "metadata": {},
   "outputs": [
    {
     "name": "stdout",
     "output_type": "stream",
     "text": [
      "{\"batchcomplete\":\"\",\"continue\":{\"sroffset\":10,\"continue\":\"-||\"},\"query\":{\"searchinfo\":{\"totalhits\":13212},\"search\":[{\"ns\":0,\"title\":\"Q1085\",\"pageid\":1434,\"size\":null,\"wordcount\":0,\"snippet\":\"capital city of the Czech Republic\",\"timestamp\":\"2023-08-19T19:24:17Z\"},{\"ns\":0,\"title\":\"Q576299\",\"pageid\":541998,\"size\":null,\"wordcount\":0,\"snippet\":\"municipality of Slovakia\",\"timestamp\":\"2023-05-16T13:24:11Z\"},{\"ns\":0,\"title\":\"Q609769\",\"pageid\":574167,\"size\":null,\"wordcount\":0,\"snippet\":\"asteroid from the main belt, discovered by A. Mrkos in 1981\",\"timestamp\":\"2022-12-06T01:06:13Z\"},{\"ns\":0,\"title\":\"Q193481\",\"pageid\":191520,\"size\":null,\"wordcount\":0,\"snippet\":\"association football club in Prague, Czech Republic\",\"timestamp\":\"2023-08-11T19:48:40Z\"},{\"ns\":0,\"title\":\"Q973974\",\"pageid\":923663,\"size\":null,\"wordcount\":0,\"snippet\":\"administrative district, municipal district and municipal part of Prague\",\"timestamp\":\"2023-08-08T21:35:44Z\"},{\"ns\":0,\"title\":\"Q194393\",\"pageid\":192292,\"size\":null,\"wordcount\":0,\"snippet\":\"oldest football club in Czech Republic\",\"timestamp\":\"2023-06-30T08:11:07Z\"},{\"ns\":0,\"title\":\"Q849221\",\"pageid\":801170,\"size\":null,\"wordcount\":0,\"snippet\":\"Czech association football club based in Prague\",\"timestamp\":\"2023-07-04T04:39:59Z\"},{\"ns\":0,\"title\":\"Q325055\",\"pageid\":312174,\"size\":null,\"wordcount\":0,\"snippet\":\"unincorporated community in Texas\",\"timestamp\":\"2023-03-29T14:37:24Z\"},{\"ns\":0,\"title\":\"Q2667290\",\"pageid\":2569877,\"size\":null,\"wordcount\":0,\"snippet\":\"municipal part of Prague\",\"timestamp\":\"2023-06-13T21:31:38Z\"},{\"ns\":0,\"title\":\"Q12046801\",\"pageid\":13264681,\"size\":null,\"wordcount\":0,\"snippet\":\"\",\"timestamp\":\"2022-07-24T23:34:58Z\"}]}}\n",
      "date\n",
      "server\n",
      "x-content-type-options\n",
      "x-search-id\n",
      "x-frame-options\n",
      "content-disposition\n",
      "vary\n",
      "cache-control\n",
      "content-type\n",
      "content-encoding\n",
      "age\n",
      "x-cache\n",
      "x-cache-status\n",
      "server-timing\n",
      "strict-transport-security\n",
      "report-to\n",
      "nel\n",
      "set-cookie\n",
      "x-client-ip\n",
      "accept-ranges\n",
      "transfer-encoding\n"
     ]
    }
   ],
   "source": [
    "response = requests.get(MEDIAWIKI_API_URL,params =params,headers=headers)\n",
    "print(response.text)\n",
    "for v in response.headers:\n",
    "    print(f\"{v}\")"
   ]
  }
 ],
 "metadata": {
  "kernelspec": {
   "display_name": "env",
   "language": "python",
   "name": "python3"
  },
  "language_info": {
   "codemirror_mode": {
    "name": "ipython",
    "version": 3
   },
   "file_extension": ".py",
   "mimetype": "text/x-python",
   "name": "python",
   "nbconvert_exporter": "python",
   "pygments_lexer": "ipython3",
   "version": "3.11.4"
  },
  "orig_nbformat": 4
 },
 "nbformat": 4,
 "nbformat_minor": 2
}
